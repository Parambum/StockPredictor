{
 "cells": [
  {
   "cell_type": "code",
   "execution_count": 46,
   "id": "d54cfdeb-a3d1-42db-a9b9-d64b59132d2c",
   "metadata": {},
   "outputs": [],
   "source": [
    "import pandas as pd\n",
    "import numpy as np\n",
    "from sklearn import metrics\n",
    "import matplotlib.pyplot as plt\n"
   ]
  },
  {
   "cell_type": "code",
   "execution_count": 7,
   "id": "084855d6-2214-470d-a007-4cfb4bb92864",
   "metadata": {},
   "outputs": [
    {
     "data": {
      "text/html": [
       "<div>\n",
       "<style scoped>\n",
       "    .dataframe tbody tr th:only-of-type {\n",
       "        vertical-align: middle;\n",
       "    }\n",
       "\n",
       "    .dataframe tbody tr th {\n",
       "        vertical-align: top;\n",
       "    }\n",
       "\n",
       "    .dataframe thead th {\n",
       "        text-align: right;\n",
       "    }\n",
       "</style>\n",
       "<table border=\"1\" class=\"dataframe\">\n",
       "  <thead>\n",
       "    <tr style=\"text-align: right;\">\n",
       "      <th></th>\n",
       "      <th>Date</th>\n",
       "      <th>Open</th>\n",
       "      <th>High</th>\n",
       "      <th>Low</th>\n",
       "      <th>Close</th>\n",
       "      <th>Shares Traded</th>\n",
       "      <th>Turnover (₹ Cr)</th>\n",
       "    </tr>\n",
       "  </thead>\n",
       "  <tbody>\n",
       "    <tr>\n",
       "      <th>0</th>\n",
       "      <td>07-MAR-2024</td>\n",
       "      <td>22505.30</td>\n",
       "      <td>22525.65</td>\n",
       "      <td>22430.00</td>\n",
       "      <td>22493.55</td>\n",
       "      <td>379865142.0</td>\n",
       "      <td>33558.46</td>\n",
       "    </tr>\n",
       "    <tr>\n",
       "      <th>1</th>\n",
       "      <td>11-MAR-2024</td>\n",
       "      <td>22517.50</td>\n",
       "      <td>22526.60</td>\n",
       "      <td>22307.25</td>\n",
       "      <td>22332.65</td>\n",
       "      <td>277897373.0</td>\n",
       "      <td>27222.37</td>\n",
       "    </tr>\n",
       "    <tr>\n",
       "      <th>2</th>\n",
       "      <td>12-MAR-2024</td>\n",
       "      <td>22334.45</td>\n",
       "      <td>22452.55</td>\n",
       "      <td>22256.00</td>\n",
       "      <td>22335.70</td>\n",
       "      <td>299201167.0</td>\n",
       "      <td>29781.12</td>\n",
       "    </tr>\n",
       "    <tr>\n",
       "      <th>3</th>\n",
       "      <td>13-MAR-2024</td>\n",
       "      <td>22432.20</td>\n",
       "      <td>22446.75</td>\n",
       "      <td>21905.65</td>\n",
       "      <td>21997.70</td>\n",
       "      <td>493341697.0</td>\n",
       "      <td>40109.23</td>\n",
       "    </tr>\n",
       "    <tr>\n",
       "      <th>4</th>\n",
       "      <td>14-MAR-2024</td>\n",
       "      <td>21982.55</td>\n",
       "      <td>22204.60</td>\n",
       "      <td>21917.50</td>\n",
       "      <td>22146.65</td>\n",
       "      <td>426742460.0</td>\n",
       "      <td>37348.30</td>\n",
       "    </tr>\n",
       "  </tbody>\n",
       "</table>\n",
       "</div>"
      ],
      "text/plain": [
       "         Date      Open      High       Low     Close   Shares Traded   \\\n",
       "0  07-MAR-2024  22505.30  22525.65  22430.00  22493.55     379865142.0   \n",
       "1  11-MAR-2024  22517.50  22526.60  22307.25  22332.65     277897373.0   \n",
       "2  12-MAR-2024  22334.45  22452.55  22256.00  22335.70     299201167.0   \n",
       "3  13-MAR-2024  22432.20  22446.75  21905.65  21997.70     493341697.0   \n",
       "4  14-MAR-2024  21982.55  22204.60  21917.50  22146.65     426742460.0   \n",
       "\n",
       "   Turnover (₹ Cr)  \n",
       "0         33558.46  \n",
       "1         27222.37  \n",
       "2         29781.12  \n",
       "3         40109.23  \n",
       "4         37348.30  "
      ]
     },
     "execution_count": 7,
     "metadata": {},
     "output_type": "execute_result"
    }
   ],
   "source": [
    "df = pd.read_csv(r\"C:\\Users\\LENOVO\\Downloads\\NIFTY 50-07-03-2024-to-07-03-2025.csv\", header = 0)\n",
    "df.head()"
   ]
  },
  {
   "cell_type": "code",
   "execution_count": 8,
   "id": "6014607e-1a94-4c97-8559-d409b28a546f",
   "metadata": {},
   "outputs": [
    {
     "name": "stdout",
     "output_type": "stream",
     "text": [
      "Index(['Date', 'Open', 'High', 'Low', 'Close', 'Shares Traded',\n",
      "       'Turnover (₹ Cr)'],\n",
      "      dtype='object')\n"
     ]
    }
   ],
   "source": [
    "\n",
    "df.columns = df.columns.str.strip()\n",
    "print(df.columns)"
   ]
  },
  {
   "cell_type": "code",
   "execution_count": 9,
   "id": "24818bce-0a93-4448-bae3-1d45e96a5107",
   "metadata": {},
   "outputs": [
    {
     "data": {
      "text/html": [
       "<div>\n",
       "<style scoped>\n",
       "    .dataframe tbody tr th:only-of-type {\n",
       "        vertical-align: middle;\n",
       "    }\n",
       "\n",
       "    .dataframe tbody tr th {\n",
       "        vertical-align: top;\n",
       "    }\n",
       "\n",
       "    .dataframe thead th {\n",
       "        text-align: right;\n",
       "    }\n",
       "</style>\n",
       "<table border=\"1\" class=\"dataframe\">\n",
       "  <thead>\n",
       "    <tr style=\"text-align: right;\">\n",
       "      <th></th>\n",
       "      <th>Date</th>\n",
       "      <th>Open</th>\n",
       "      <th>High</th>\n",
       "      <th>Low</th>\n",
       "      <th>Close</th>\n",
       "      <th>Shares Traded</th>\n",
       "      <th>Turnover (₹ Cr)</th>\n",
       "      <th>prev close</th>\n",
       "    </tr>\n",
       "  </thead>\n",
       "  <tbody>\n",
       "    <tr>\n",
       "      <th>0</th>\n",
       "      <td>07-MAR-2024</td>\n",
       "      <td>22505.30</td>\n",
       "      <td>22525.65</td>\n",
       "      <td>22430.00</td>\n",
       "      <td>22493.55</td>\n",
       "      <td>379865142.0</td>\n",
       "      <td>33558.46</td>\n",
       "      <td>NaN</td>\n",
       "    </tr>\n",
       "    <tr>\n",
       "      <th>1</th>\n",
       "      <td>11-MAR-2024</td>\n",
       "      <td>22517.50</td>\n",
       "      <td>22526.60</td>\n",
       "      <td>22307.25</td>\n",
       "      <td>22332.65</td>\n",
       "      <td>277897373.0</td>\n",
       "      <td>27222.37</td>\n",
       "      <td>22493.55</td>\n",
       "    </tr>\n",
       "    <tr>\n",
       "      <th>2</th>\n",
       "      <td>12-MAR-2024</td>\n",
       "      <td>22334.45</td>\n",
       "      <td>22452.55</td>\n",
       "      <td>22256.00</td>\n",
       "      <td>22335.70</td>\n",
       "      <td>299201167.0</td>\n",
       "      <td>29781.12</td>\n",
       "      <td>22332.65</td>\n",
       "    </tr>\n",
       "    <tr>\n",
       "      <th>3</th>\n",
       "      <td>13-MAR-2024</td>\n",
       "      <td>22432.20</td>\n",
       "      <td>22446.75</td>\n",
       "      <td>21905.65</td>\n",
       "      <td>21997.70</td>\n",
       "      <td>493341697.0</td>\n",
       "      <td>40109.23</td>\n",
       "      <td>22335.70</td>\n",
       "    </tr>\n",
       "    <tr>\n",
       "      <th>4</th>\n",
       "      <td>14-MAR-2024</td>\n",
       "      <td>21982.55</td>\n",
       "      <td>22204.60</td>\n",
       "      <td>21917.50</td>\n",
       "      <td>22146.65</td>\n",
       "      <td>426742460.0</td>\n",
       "      <td>37348.30</td>\n",
       "      <td>21997.70</td>\n",
       "    </tr>\n",
       "  </tbody>\n",
       "</table>\n",
       "</div>"
      ],
      "text/plain": [
       "          Date      Open      High       Low     Close  Shares Traded  \\\n",
       "0  07-MAR-2024  22505.30  22525.65  22430.00  22493.55    379865142.0   \n",
       "1  11-MAR-2024  22517.50  22526.60  22307.25  22332.65    277897373.0   \n",
       "2  12-MAR-2024  22334.45  22452.55  22256.00  22335.70    299201167.0   \n",
       "3  13-MAR-2024  22432.20  22446.75  21905.65  21997.70    493341697.0   \n",
       "4  14-MAR-2024  21982.55  22204.60  21917.50  22146.65    426742460.0   \n",
       "\n",
       "   Turnover (₹ Cr)  prev close  \n",
       "0         33558.46         NaN  \n",
       "1         27222.37    22493.55  \n",
       "2         29781.12    22332.65  \n",
       "3         40109.23    22335.70  \n",
       "4         37348.30    21997.70  "
      ]
     },
     "execution_count": 9,
     "metadata": {},
     "output_type": "execute_result"
    }
   ],
   "source": [
    "shifted = df['Close'].shift(1)\n",
    "df[\"prev close\"] = shifted\n",
    "df.head()"
   ]
  },
  {
   "cell_type": "code",
   "execution_count": 10,
   "id": "8df6877d-4064-4f7c-9313-978004b0ac63",
   "metadata": {},
   "outputs": [
    {
     "data": {
      "text/plain": [
       "Date               0\n",
       "Open               0\n",
       "High               0\n",
       "Low                0\n",
       "Close              0\n",
       "Shares Traded      1\n",
       "Turnover (₹ Cr)    1\n",
       "prev close         1\n",
       "dtype: int64"
      ]
     },
     "execution_count": 10,
     "metadata": {},
     "output_type": "execute_result"
    }
   ],
   "source": [
    "df.isnull().sum()"
   ]
  },
  {
   "cell_type": "code",
   "execution_count": 64,
   "id": "ee0a2c32-c22b-4120-b8a4-30b893d2c69a",
   "metadata": {},
   "outputs": [
    {
     "data": {
      "text/html": [
       "<div>\n",
       "<style scoped>\n",
       "    .dataframe tbody tr th:only-of-type {\n",
       "        vertical-align: middle;\n",
       "    }\n",
       "\n",
       "    .dataframe tbody tr th {\n",
       "        vertical-align: top;\n",
       "    }\n",
       "\n",
       "    .dataframe thead th {\n",
       "        text-align: right;\n",
       "    }\n",
       "</style>\n",
       "<table border=\"1\" class=\"dataframe\">\n",
       "  <thead>\n",
       "    <tr style=\"text-align: right;\">\n",
       "      <th></th>\n",
       "      <th>Date</th>\n",
       "      <th>Open</th>\n",
       "      <th>High</th>\n",
       "      <th>Low</th>\n",
       "      <th>Close</th>\n",
       "      <th>Shares Traded</th>\n",
       "      <th>Turnover (₹ Cr)</th>\n",
       "      <th>prev close</th>\n",
       "    </tr>\n",
       "  </thead>\n",
       "  <tbody>\n",
       "    <tr>\n",
       "      <th>1</th>\n",
       "      <td>11-MAR-2024</td>\n",
       "      <td>22517.50</td>\n",
       "      <td>22526.60</td>\n",
       "      <td>22307.25</td>\n",
       "      <td>22332.65</td>\n",
       "      <td>277897373.0</td>\n",
       "      <td>27222.37</td>\n",
       "      <td>22493.55</td>\n",
       "    </tr>\n",
       "    <tr>\n",
       "      <th>2</th>\n",
       "      <td>12-MAR-2024</td>\n",
       "      <td>22334.45</td>\n",
       "      <td>22452.55</td>\n",
       "      <td>22256.00</td>\n",
       "      <td>22335.70</td>\n",
       "      <td>299201167.0</td>\n",
       "      <td>29781.12</td>\n",
       "      <td>22332.65</td>\n",
       "    </tr>\n",
       "    <tr>\n",
       "      <th>3</th>\n",
       "      <td>13-MAR-2024</td>\n",
       "      <td>22432.20</td>\n",
       "      <td>22446.75</td>\n",
       "      <td>21905.65</td>\n",
       "      <td>21997.70</td>\n",
       "      <td>493341697.0</td>\n",
       "      <td>40109.23</td>\n",
       "      <td>22335.70</td>\n",
       "    </tr>\n",
       "    <tr>\n",
       "      <th>4</th>\n",
       "      <td>14-MAR-2024</td>\n",
       "      <td>21982.55</td>\n",
       "      <td>22204.60</td>\n",
       "      <td>21917.50</td>\n",
       "      <td>22146.65</td>\n",
       "      <td>426742460.0</td>\n",
       "      <td>37348.30</td>\n",
       "      <td>21997.70</td>\n",
       "    </tr>\n",
       "    <tr>\n",
       "      <th>5</th>\n",
       "      <td>15-MAR-2024</td>\n",
       "      <td>22064.85</td>\n",
       "      <td>22120.90</td>\n",
       "      <td>21931.70</td>\n",
       "      <td>22023.35</td>\n",
       "      <td>661460455.0</td>\n",
       "      <td>60260.88</td>\n",
       "      <td>22146.65</td>\n",
       "    </tr>\n",
       "    <tr>\n",
       "      <th>...</th>\n",
       "      <td>...</td>\n",
       "      <td>...</td>\n",
       "      <td>...</td>\n",
       "      <td>...</td>\n",
       "      <td>...</td>\n",
       "      <td>...</td>\n",
       "      <td>...</td>\n",
       "      <td>...</td>\n",
       "    </tr>\n",
       "    <tr>\n",
       "      <th>69</th>\n",
       "      <td>21-JUN-2024</td>\n",
       "      <td>23661.15</td>\n",
       "      <td>23667.10</td>\n",
       "      <td>23398.20</td>\n",
       "      <td>23501.10</td>\n",
       "      <td>609877803.0</td>\n",
       "      <td>70062.97</td>\n",
       "      <td>23567.00</td>\n",
       "    </tr>\n",
       "    <tr>\n",
       "      <th>70</th>\n",
       "      <td>24-JUN-2024</td>\n",
       "      <td>23382.30</td>\n",
       "      <td>23558.10</td>\n",
       "      <td>23350.00</td>\n",
       "      <td>23537.85</td>\n",
       "      <td>239358460.0</td>\n",
       "      <td>24862.37</td>\n",
       "      <td>23501.10</td>\n",
       "    </tr>\n",
       "    <tr>\n",
       "      <th>71</th>\n",
       "      <td>25-JUN-2024</td>\n",
       "      <td>23577.10</td>\n",
       "      <td>23754.15</td>\n",
       "      <td>23562.05</td>\n",
       "      <td>23721.30</td>\n",
       "      <td>298111025.0</td>\n",
       "      <td>34263.36</td>\n",
       "      <td>23537.85</td>\n",
       "    </tr>\n",
       "    <tr>\n",
       "      <th>72</th>\n",
       "      <td>26-JUN-2024</td>\n",
       "      <td>23723.10</td>\n",
       "      <td>23889.90</td>\n",
       "      <td>23670.45</td>\n",
       "      <td>23868.80</td>\n",
       "      <td>287824687.0</td>\n",
       "      <td>33979.62</td>\n",
       "      <td>23721.30</td>\n",
       "    </tr>\n",
       "    <tr>\n",
       "      <th>73</th>\n",
       "      <td>27-JUN-2024</td>\n",
       "      <td>23881.55</td>\n",
       "      <td>24087.45</td>\n",
       "      <td>23805.40</td>\n",
       "      <td>24044.50</td>\n",
       "      <td>515227010.0</td>\n",
       "      <td>61216.71</td>\n",
       "      <td>23868.80</td>\n",
       "    </tr>\n",
       "  </tbody>\n",
       "</table>\n",
       "<p>73 rows × 8 columns</p>\n",
       "</div>"
      ],
      "text/plain": [
       "           Date      Open      High       Low     Close  Shares Traded  \\\n",
       "1   11-MAR-2024  22517.50  22526.60  22307.25  22332.65    277897373.0   \n",
       "2   12-MAR-2024  22334.45  22452.55  22256.00  22335.70    299201167.0   \n",
       "3   13-MAR-2024  22432.20  22446.75  21905.65  21997.70    493341697.0   \n",
       "4   14-MAR-2024  21982.55  22204.60  21917.50  22146.65    426742460.0   \n",
       "5   15-MAR-2024  22064.85  22120.90  21931.70  22023.35    661460455.0   \n",
       "..          ...       ...       ...       ...       ...            ...   \n",
       "69  21-JUN-2024  23661.15  23667.10  23398.20  23501.10    609877803.0   \n",
       "70  24-JUN-2024  23382.30  23558.10  23350.00  23537.85    239358460.0   \n",
       "71  25-JUN-2024  23577.10  23754.15  23562.05  23721.30    298111025.0   \n",
       "72  26-JUN-2024  23723.10  23889.90  23670.45  23868.80    287824687.0   \n",
       "73  27-JUN-2024  23881.55  24087.45  23805.40  24044.50    515227010.0   \n",
       "\n",
       "    Turnover (₹ Cr)  prev close  \n",
       "1          27222.37    22493.55  \n",
       "2          29781.12    22332.65  \n",
       "3          40109.23    22335.70  \n",
       "4          37348.30    21997.70  \n",
       "5          60260.88    22146.65  \n",
       "..              ...         ...  \n",
       "69         70062.97    23567.00  \n",
       "70         24862.37    23501.10  \n",
       "71         34263.36    23537.85  \n",
       "72         33979.62    23721.30  \n",
       "73         61216.71    23868.80  \n",
       "\n",
       "[73 rows x 8 columns]"
      ]
     },
     "execution_count": 64,
     "metadata": {},
     "output_type": "execute_result"
    }
   ],
   "source": [
    "df.dropna(inplace = True)\n",
    "df.head(73)"
   ]
  },
  {
   "cell_type": "code",
   "execution_count": 12,
   "id": "93b32b7b-d877-4d7f-ab0f-74194294c397",
   "metadata": {},
   "outputs": [
    {
     "data": {
      "text/plain": [
       "<pandas.plotting._core.PlotAccessor object at 0x00000254ED5A8150>"
      ]
     },
     "execution_count": 12,
     "metadata": {},
     "output_type": "execute_result"
    },
    {
     "data": {
      "image/png": "[encoded data removed]",
      "text/plain": [
       "<Figure size 800x600 with 1 Axes>"
      ]
     },
     "metadata": {},
     "output_type": "display_data"
    }
   ],
   "source": [
    "df['Close'].plot(figsize=(8,6))\n",
    "df.plot\n"
   ]
  },
  {
   "cell_type": "code",
   "execution_count": 13,
   "id": "05c3c917-5c80-4b54-b173-c6030045336c",
   "metadata": {},
   "outputs": [],
   "source": [
    "x = df[[\"Open\",\"prev close\",\"High\",\"Low\",\"Turnover (₹ Cr)\",\"Shares Traded\"]]\n",
    "y = df[\"Close\"]\n"
   ]
  },
  {
   "cell_type": "code",
   "execution_count": 78,
   "id": "759bcb84-f05e-42fa-871c-ef20033b6240",
   "metadata": {},
   "outputs": [
    {
     "name": "stdout",
     "output_type": "stream",
     "text": [
      "(185, 6) (62, 6)\n"
     ]
    }
   ],
   "source": [
    "from sklearn.model_selection import train_test_split\n",
    "x_train, x_test, y_train, y_test = train_test_split(x,y,random_state = 0)\n",
    "print(x_train.shape, x_test.shape)"
   ]
  },
  {
   "cell_type": "code",
   "execution_count": 60,
   "id": "66d39448-0b76-4ed0-9b0a-51315cf601f3",
   "metadata": {},
   "outputs": [
    {
     "data": {
      "text/html": [
       "<style>#sk-container-id-2 {color: black;background-color: white;}#sk-container-id-2 pre{padding: 0;}#sk-container-id-2 div.sk-toggleable {background-color: white;}#sk-container-id-2 label.sk-toggleable__label {cursor: pointer;display: block;width: 100%;margin-bottom: 0;padding: 0.3em;box-sizing: border-box;text-align: center;}#sk-container-id-2 label.sk-toggleable__label-arrow:before {content: \"▸\";float: left;margin-right: 0.25em;color: #696969;}#sk-container-id-2 label.sk-toggleable__label-arrow:hover:before {color: black;}#sk-container-id-2 div.sk-estimator:hover label.sk-toggleable__label-arrow:before {color: black;}#sk-container-id-2 div.sk-toggleable__content {max-height: 0;max-width: 0;overflow: hidden;text-align: left;background-color: #f0f8ff;}#sk-container-id-2 div.sk-toggleable__content pre {margin: 0.2em;color: black;border-radius: 0.25em;background-color: #f0f8ff;}#sk-container-id-2 input.sk-toggleable__control:checked~div.sk-toggleable__content {max-height: 200px;max-width: 100%;overflow: auto;}#sk-container-id-2 input.sk-toggleable__control:checked~label.sk-toggleable__label-arrow:before {content: \"▾\";}#sk-container-id-2 div.sk-estimator input.sk-toggleable__control:checked~label.sk-toggleable__label {background-color: #d4ebff;}#sk-container-id-2 div.sk-label input.sk-toggleable__control:checked~label.sk-toggleable__label {background-color: #d4ebff;}#sk-container-id-2 input.sk-hidden--visually {border: 0;clip: rect(1px 1px 1px 1px);clip: rect(1px, 1px, 1px, 1px);height: 1px;margin: -1px;overflow: hidden;padding: 0;position: absolute;width: 1px;}#sk-container-id-2 div.sk-estimator {font-family: monospace;background-color: #f0f8ff;border: 1px dotted black;border-radius: 0.25em;box-sizing: border-box;margin-bottom: 0.5em;}#sk-container-id-2 div.sk-estimator:hover {background-color: #d4ebff;}#sk-container-id-2 div.sk-parallel-item::after {content: \"\";width: 100%;border-bottom: 1px solid gray;flex-grow: 1;}#sk-container-id-2 div.sk-label:hover label.sk-toggleable__label {background-color: #d4ebff;}#sk-container-id-2 div.sk-serial::before {content: \"\";position: absolute;border-left: 1px solid gray;box-sizing: border-box;top: 0;bottom: 0;left: 50%;z-index: 0;}#sk-container-id-2 div.sk-serial {display: flex;flex-direction: column;align-items: center;background-color: white;padding-right: 0.2em;padding-left: 0.2em;position: relative;}#sk-container-id-2 div.sk-item {position: relative;z-index: 1;}#sk-container-id-2 div.sk-parallel {display: flex;align-items: stretch;justify-content: center;background-color: white;position: relative;}#sk-container-id-2 div.sk-item::before, #sk-container-id-2 div.sk-parallel-item::before {content: \"\";position: absolute;border-left: 1px solid gray;box-sizing: border-box;top: 0;bottom: 0;left: 50%;z-index: -1;}#sk-container-id-2 div.sk-parallel-item {display: flex;flex-direction: column;z-index: 1;position: relative;background-color: white;}#sk-container-id-2 div.sk-parallel-item:first-child::after {align-self: flex-end;width: 50%;}#sk-container-id-2 div.sk-parallel-item:last-child::after {align-self: flex-start;width: 50%;}#sk-container-id-2 div.sk-parallel-item:only-child::after {width: 0;}#sk-container-id-2 div.sk-dashed-wrapped {border: 1px dashed gray;margin: 0 0.4em 0.5em 0.4em;box-sizing: border-box;padding-bottom: 0.4em;background-color: white;}#sk-container-id-2 div.sk-label label {font-family: monospace;font-weight: bold;display: inline-block;line-height: 1.2em;}#sk-container-id-2 div.sk-label-container {text-align: center;}#sk-container-id-2 div.sk-container {/* jupyter's `normalize.less` sets `[hidden] { display: none; }` but bootstrap.min.css set `[hidden] { display: none !important; }` so we also need the `!important` here to be able to override the default hidden behavior on the sphinx rendered scikit-learn.org. See: https://github.com/scikit-learn/scikit-learn/issues/21755 */display: inline-block !important;position: relative;}#sk-container-id-2 div.sk-text-repr-fallback {display: none;}</style><div id=\"sk-container-id-2\" class=\"sk-top-container\"><div class=\"sk-text-repr-fallback\"><pre>LinearRegression()</pre><b>In a Jupyter environment, please rerun this cell to show the HTML representation or trust the notebook. <br />On GitHub, the HTML representation is unable to render, please try loading this page with nbviewer.org.</b></div><div class=\"sk-container\" hidden><div class=\"sk-item\"><div class=\"sk-estimator sk-toggleable\"><input class=\"sk-toggleable__control sk-hidden--visually\" id=\"sk-estimator-id-2\" type=\"checkbox\" checked><label for=\"sk-estimator-id-2\" class=\"sk-toggleable__label sk-toggleable__label-arrow\">LinearRegression</label><div class=\"sk-toggleable__content\"><pre>LinearRegression()</pre></div></div></div></div></div>"
      ],
      "text/plain": [
       "LinearRegression()"
      ]
     },
     "execution_count": 60,
     "metadata": {},
     "output_type": "execute_result"
    }
   ],
   "source": [
    "from sklearn.linear_model import LinearRegression\n",
    "from sklearn.metrics import confusion_matrix,accuracy_score\n",
    "regressor = LinearRegression()\n",
    "regressor.fit(x_train , y_train)\n"
   ]
  },
  {
   "cell_type": "code",
   "execution_count": 59,
   "id": "11f3aa4f-6f75-4fdf-8a58-09cd51dfd559",
   "metadata": {},
   "outputs": [
    {
     "name": "stdout",
     "output_type": "stream",
     "text": [
      "Predicted Closing Price for the Next Day: 22562.39\n"
     ]
    },
    {
     "name": "stderr",
     "output_type": "stream",
     "text": [
      "C:\\Users\\LENOVO\\anaconda3\\Lib\\site-packages\\sklearn\\base.py:439: UserWarning: X does not have valid feature names, but LinearRegression was fitted with feature names\n",
      "  warnings.warn(\n"
     ]
    }
   ],
   "source": [
    "from sklearn.linear_model import LinearRegression\n",
    "from sklearn.metrics import confusion_matrix,accuracy_score\n",
    "regressor = LinearRegression()\n",
    "regressor.fit(x_train , y_train)\n",
    "next_day = df.iloc[-1][x.columns].values.reshape(1,-1)\n",
    "next_day_price = regressor.predict(next_day)\n",
    "print(f\"Predicted Closing Price for the Next Day: {next_day_price[0]:.2f}\")\n",
    "last_day_closing = df.iloc[-1][\"Close\"]\n",
    "predicted_df = pd.DataFrame({\"Last Day Closing Price: \":last_day_closing,\"Next day predicted value: \" : next_day_price})"
   ]
  },
  {
   "cell_type": "code",
   "execution_count": 39,
   "id": "22d1a13e-00c5-4656-8597-a3a69d405c44",
   "metadata": {},
   "outputs": [
    {
     "name": "stdout",
     "output_type": "stream",
     "text": [
      "[-5.45050385e-01 -1.63585607e-01  1.03699428e+00  6.67860501e-01\n",
      "  6.25472132e-04 -5.57510400e-08]\n",
      "47.02421990342191\n"
     ]
    }
   ],
   "source": [
    "print(regressor.coef_)\n",
    "print(regressor.intercept_)"
   ]
  },
  {
   "cell_type": "code",
   "execution_count": 32,
   "id": "a5bf1b03-69a0-4e18-ace1-b28e72deb007",
   "metadata": {},
   "outputs": [
    {
     "name": "stdout",
     "output_type": "stream",
     "text": [
      "         Open  prev close      High       Low  Turnover (₹ Cr)  Shares Traded\n",
      "91   24444.95    24479.05  24504.25  24307.25         39538.11    366616574.0\n",
      "111  24863.40    24770.20  24867.35  24784.45         24227.03    220345125.0\n",
      "75   23992.95    24010.60  24164.00  23992.70         28204.06    242468081.0\n",
      "112  24845.40    24811.50  24858.40  24771.65         23134.22    206800655.0\n",
      "72   23723.10    23721.30  23889.90  23670.45         33979.62    287824687.0\n",
      "..        ...         ...       ...       ...              ...            ...\n",
      "161  24302.75    24205.35  24368.25  24280.20          3348.45     38811387.0\n",
      "228  23761.95    23696.30  23773.55  23556.25         30885.59    306978683.0\n",
      "110  24680.55    24698.85  24787.95  24654.50         27404.63    257114212.0\n",
      "151  24664.95    24749.85  24886.20  24567.65         31772.76    290855392.0\n",
      "163  23916.50    23995.35  24229.05  23842.75         30074.77    289511197.0\n",
      "\n",
      "[62 rows x 6 columns]\n"
     ]
    }
   ],
   "source": [
    "predicted_value = regressor.predict(x_test)\n",
    "print(x_test)\n"
   ]
  },
  {
   "cell_type": "code",
   "execution_count": 74,
   "id": "875ea039-4d02-4fe3-b264-d0b9bffdcc4f",
   "metadata": {},
   "outputs": [
    {
     "data": {
      "text/html": [
       "<div>\n",
       "<style scoped>\n",
       "    .dataframe tbody tr th:only-of-type {\n",
       "        vertical-align: middle;\n",
       "    }\n",
       "\n",
       "    .dataframe tbody tr th {\n",
       "        vertical-align: top;\n",
       "    }\n",
       "\n",
       "    .dataframe thead th {\n",
       "        text-align: right;\n",
       "    }\n",
       "</style>\n",
       "<table border=\"1\" class=\"dataframe\">\n",
       "  <thead>\n",
       "    <tr style=\"text-align: right;\">\n",
       "      <th></th>\n",
       "      <th>Actual Value</th>\n",
       "      <th>Predictions</th>\n",
       "    </tr>\n",
       "  </thead>\n",
       "  <tbody>\n",
       "    <tr>\n",
       "      <th>0</th>\n",
       "      <td>24413.50</td>\n",
       "      <td>24367.784612</td>\n",
       "    </tr>\n",
       "    <tr>\n",
       "      <th>1</th>\n",
       "      <td>24811.50</td>\n",
       "      <td>24785.894116</td>\n",
       "    </tr>\n",
       "    <tr>\n",
       "      <th>2</th>\n",
       "      <td>24141.95</td>\n",
       "      <td>24127.698514</td>\n",
       "    </tr>\n",
       "    <tr>\n",
       "      <th>3</th>\n",
       "      <td>24823.15</td>\n",
       "      <td>24771.190820</td>\n",
       "    </tr>\n",
       "    <tr>\n",
       "      <th>4</th>\n",
       "      <td>23868.80</td>\n",
       "      <td>23823.731271</td>\n",
       "    </tr>\n",
       "    <tr>\n",
       "      <th>...</th>\n",
       "      <td>...</td>\n",
       "      <td>...</td>\n",
       "    </tr>\n",
       "    <tr>\n",
       "      <th>57</th>\n",
       "      <td>24304.35</td>\n",
       "      <td>24326.607165</td>\n",
       "    </tr>\n",
       "    <tr>\n",
       "      <th>58</th>\n",
       "      <td>23603.35</td>\n",
       "      <td>23606.718664</td>\n",
       "    </tr>\n",
       "    <tr>\n",
       "      <th>59</th>\n",
       "      <td>24770.20</td>\n",
       "      <td>24728.040179</td>\n",
       "    </tr>\n",
       "    <tr>\n",
       "      <th>60</th>\n",
       "      <td>24854.05</td>\n",
       "      <td>24772.932141</td>\n",
       "    </tr>\n",
       "    <tr>\n",
       "      <th>61</th>\n",
       "      <td>24213.30</td>\n",
       "      <td>24137.720466</td>\n",
       "    </tr>\n",
       "  </tbody>\n",
       "</table>\n",
       "<p>62 rows × 2 columns</p>\n",
       "</div>"
      ],
      "text/plain": [
       "    Actual Value   Predictions\n",
       "0       24413.50  24367.784612\n",
       "1       24811.50  24785.894116\n",
       "2       24141.95  24127.698514\n",
       "3       24823.15  24771.190820\n",
       "4       23868.80  23823.731271\n",
       "..           ...           ...\n",
       "57      24304.35  24326.607165\n",
       "58      23603.35  23606.718664\n",
       "59      24770.20  24728.040179\n",
       "60      24854.05  24772.932141\n",
       "61      24213.30  24137.720466\n",
       "\n",
       "[62 rows x 2 columns]"
      ]
     },
     "execution_count": 74,
     "metadata": {},
     "output_type": "execute_result"
    }
   ],
   "source": [
    "prev_data_predicted_df = pd.DataFrame({\"Actual Value\": y_test , \"Predictions\" : predicted_value}).reset_index(drop = True)\n",
    "prev_data_predicted_df"
   ]
  },
  {
   "cell_type": "code",
   "execution_count": 79,
   "id": "599fac07-b5da-420b-ac92-4baa2a23b019",
   "metadata": {},
   "outputs": [
    {
     "data": {
      "text/plain": [
       "0.9953266658268426"
      ]
     },
     "execution_count": 79,
     "metadata": {},
     "output_type": "execute_result"
    }
   ],
   "source": [
    "regressor.score(x_test,y_test)"
   ]
  },
  {
   "cell_type": "code",
   "execution_count": 80,
   "id": "b961c274-85a9-4b8c-a871-2e321bfc2fe4",
   "metadata": {},
   "outputs": [
    {
     "name": "stdout",
     "output_type": "stream",
     "text": [
      "Mean abssolute error:  47.3928473964563\n",
      "Meam square error:  4609.838674646152\n",
      "Mean square root error :  67.89579276101098\n"
     ]
    }
   ],
   "source": [
    "import math\n",
    "print(\"Mean abssolute error: \",metrics.mean_absolute_error(y_test,predicted_value))\n",
    "print(\"Meam square error: \",metrics.mean_squared_error(y_test,predicted_value))\n",
    "print(\"Mean square root error : \",math.sqrt(metrics.mean_squared_error(y_test,predicted_value)))"
   ]
  },
  {
   "cell_type": "code",
   "execution_count": null,
   "id": "55ae32d6-0dd6-442a-a8f2-01ba34f42dcd",
   "metadata": {},
   "outputs": [],
   "source": []
  }
 ],
 "metadata": {
  "kernelspec": {
   "display_name": "Python 3 (ipykernel)",
   "language": "python",
   "name": "python3"
  },
  "language_info": {
   "codemirror_mode": {
    "name": "ipython",
    "version": 3
   },
   "file_extension": ".py",
   "mimetype": "text/x-python",
   "name": "python",
   "nbconvert_exporter": "python",
   "pygments_lexer": "ipython3",
   "version": "3.11.7"
  }
 },
 "nbformat": 4,
 "nbformat_minor": 5
}
